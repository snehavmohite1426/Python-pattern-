{
  "cells": [
    {
      "cell_type": "markdown",
      "metadata": {
        "id": "view-in-github",
        "colab_type": "text"
      },
      "source": [
        "<a href=\"https://colab.research.google.com/github/snehavmohite1426/Python-pattern-/blob/main/Copy_of_Welcome_To_Colab.ipynb\" target=\"_parent\"><img src=\"https://colab.research.google.com/assets/colab-badge.svg\" alt=\"Open In Colab\"/></a>"
      ]
    },
    {
      "cell_type": "code",
      "execution_count": null,
      "metadata": {
        "colab": {
          "base_uri": "https://localhost:8080/"
        },
        "id": "zitQOOKtsaSu",
        "outputId": "0e811393-22e2-4fc3-da6c-7e8833f95240"
      },
      "outputs": [
        {
          "name": "stdout",
          "output_type": "stream",
          "text": [
            "1 2 3 4 5 \n",
            "1 2 3 4 5 \n",
            "1 2 3 4 5 \n",
            "1 2 3 4 5 \n"
          ]
        }
      ],
      "source": [
        "# Q.1\n",
        "for i in range(1,5,1):\n",
        "  for j in range(1,6,1):\n",
        "    print(j,end=\" \")\n",
        "  print()"
      ]
    },
    {
      "cell_type": "code",
      "execution_count": null,
      "metadata": {
        "colab": {
          "base_uri": "https://localhost:8080/"
        },
        "id": "4zLWVNXRtmuI",
        "outputId": "7239b263-2dfa-4cde-d374-9fb79d331fea"
      },
      "outputs": [
        {
          "name": "stdout",
          "output_type": "stream",
          "text": [
            "1 1 1 1 1 \n",
            "2 2 2 2 2 \n",
            "3 3 3 3 3 \n",
            "4 4 4 4 4 \n",
            "5 5 5 5 5 \n"
          ]
        }
      ],
      "source": [
        "# Q.2\n",
        "for i in range(1,6,1):\n",
        "  for j in range(1,6,1):\n",
        "    print(i,end=\" \")\n",
        "  print()"
      ]
    },
    {
      "cell_type": "code",
      "execution_count": null,
      "metadata": {
        "colab": {
          "base_uri": "https://localhost:8080/"
        },
        "id": "QZiZwxUut7XK",
        "outputId": "51521d4e-98e6-4ab5-ce8e-257006bcb1fd"
      },
      "outputs": [
        {
          "name": "stdout",
          "output_type": "stream",
          "text": [
            "5 4 3 2 1 \n",
            "5 4 3 2 1 \n",
            "5 4 3 2 1 \n",
            "5 4 3 2 1 \n",
            "5 4 3 2 1 \n"
          ]
        }
      ],
      "source": [
        "# Q.3\n",
        "for i in range(5,0,-1):\n",
        "  for j in range(5,0,-1):\n",
        "    print(j,end=\" \")\n",
        "  print()"
      ]
    },
    {
      "cell_type": "code",
      "execution_count": null,
      "metadata": {
        "colab": {
          "base_uri": "https://localhost:8080/"
        },
        "id": "V2WJiVlyulY-",
        "outputId": "69304330-2d9f-4e66-d71a-cb6dcbe2e0e4"
      },
      "outputs": [
        {
          "name": "stdout",
          "output_type": "stream",
          "text": [
            "5 5 5 5 5 \n",
            "4 4 4 4 4 \n",
            "3 3 3 3 3 \n",
            "2 2 2 2 2 \n",
            "1 1 1 1 1 \n"
          ]
        }
      ],
      "source": [
        "# Q.4\n",
        "for i in range(5,0,-1):\n",
        "  for j in range(5,0,-1):\n",
        "    print(i,end=\" \")\n",
        "  print()"
      ]
    },
    {
      "cell_type": "code",
      "execution_count": null,
      "metadata": {
        "colab": {
          "base_uri": "https://localhost:8080/"
        },
        "id": "vPsRzMGQvCRe",
        "outputId": "0bf0d496-d5f3-44f8-eaa5-c326f67618d8"
      },
      "outputs": [
        {
          "name": "stdout",
          "output_type": "stream",
          "text": [
            "* \n",
            "* * \n",
            "* * * \n",
            "* * * * \n",
            "* * * * * \n"
          ]
        }
      ],
      "source": [
        "# Q.5\n",
        "for i in range(1,6,1):\n",
        "  for j in range(1,i+1,1):\n",
        "    print('*',end=\" \")\n",
        "  print()"
      ]
    },
    {
      "cell_type": "code",
      "execution_count": null,
      "metadata": {
        "colab": {
          "base_uri": "https://localhost:8080/"
        },
        "id": "dRAlAjMZveks",
        "outputId": "3ffed5a2-d833-4be9-bd14-3ce2c19212f3"
      },
      "outputs": [
        {
          "name": "stdout",
          "output_type": "stream",
          "text": [
            "* * * * * \n",
            "* * * * * \n",
            "* * * * * \n",
            "* * * * * \n",
            "* * * * * \n"
          ]
        }
      ],
      "source": [
        "# Q.6\n",
        "for i in range(1,6,1):\n",
        "  for j in range(1,6,1):\n",
        "    print('*',end=\" \")\n",
        "  print()"
      ]
    },
    {
      "cell_type": "code",
      "execution_count": null,
      "metadata": {
        "colab": {
          "base_uri": "https://localhost:8080/"
        },
        "id": "slBo3a0wv8vU",
        "outputId": "aa08ddfc-0c0e-4928-cb44-81ce1e8f6833"
      },
      "outputs": [
        {
          "output_type": "stream",
          "name": "stdout",
          "text": [
            "1 2 3 4 5 \n",
            "6 7 8 9 10 \n",
            "11 12 13 14 15 \n",
            "16 17 18 19 20 \n",
            "21 22 23 24 25 \n"
          ]
        }
      ],
      "source": [
        "# Q.7\n",
        "a=26\n",
        "for i in range(1, 26, 1):\n",
        "    print(i, end=\" \")\n",
        "    if i % 5 == 0:\n",
        "        print()"
      ]
    },
    {
      "cell_type": "code",
      "execution_count": null,
      "metadata": {
        "colab": {
          "base_uri": "https://localhost:8080/"
        },
        "id": "VJGza5aqw2Zg",
        "outputId": "1b06548c-ab83-4906-af05-0ff9a498fdf6"
      },
      "outputs": [
        {
          "name": "stdout",
          "output_type": "stream",
          "text": [
            "A B C D E \n",
            "F G H I J \n",
            "K L M N O \n",
            "P Q R S T \n",
            "U V W X Y \n"
          ]
        }
      ],
      "source": [
        "# Q.8\n",
        "for i in range(1,26):\n",
        "    print(chr(64+i), end=\" \")\n",
        "    if i % 5 == 0:\n",
        "        print()"
      ]
    },
    {
      "cell_type": "code",
      "execution_count": 1,
      "metadata": {
        "colab": {
          "base_uri": "https://localhost:8080/"
        },
        "id": "JA7Oaj4uxHVJ",
        "outputId": "08c30a16-8eab-48f6-a66d-3b375a19e975"
      },
      "outputs": [
        {
          "output_type": "stream",
          "name": "stdout",
          "text": [
            "A B C D E \n",
            "A B C D E \n",
            "A B C D E \n",
            "A B C D E \n",
            "A B C D E \n"
          ]
        }
      ],
      "source": [
        "# Q.9\n",
        "for i in range(1,6,1):\n",
        "  for j in range(1,6,1):\n",
        "    print(chr(64+j),end=\" \")\n",
        "  print()"
      ]
    },
    {
      "cell_type": "code",
      "execution_count": null,
      "metadata": {
        "colab": {
          "base_uri": "https://localhost:8080/"
        },
        "id": "TsvjGTI0xwrm",
        "outputId": "cd9ddf10-c921-43e3-c1d4-74fd0400b9aa"
      },
      "outputs": [
        {
          "name": "stdout",
          "output_type": "stream",
          "text": [
            "E D C B A \n",
            "E D C B A \n",
            "E D C B A \n",
            "E D C B A \n",
            "E D C B A \n"
          ]
        }
      ],
      "source": [
        "# Q.10\n",
        "for i in range(5,0,-1):\n",
        "  for j in range(5,0,-1):\n",
        "    print((chr(64+j)),end=\" \")\n",
        "  print()"
      ]
    },
    {
      "cell_type": "code",
      "execution_count": null,
      "metadata": {
        "colab": {
          "base_uri": "https://localhost:8080/"
        },
        "id": "cZNfe1d7yRR7",
        "outputId": "5df03f75-eaa0-4fe8-c6e0-337ac5f9f85a"
      },
      "outputs": [
        {
          "name": "stdout",
          "output_type": "stream",
          "text": [
            "A A A A A \n",
            "B B B B B \n",
            "C C C C C \n",
            "D D D D D \n",
            "E E E E E \n"
          ]
        }
      ],
      "source": [
        "# Q.11\n",
        "for i in range(1,6,1):\n",
        "  for j in range(1,6,1):\n",
        "    print(chr(64+i),end=\" \")\n",
        "  print()"
      ]
    },
    {
      "cell_type": "code",
      "execution_count": null,
      "metadata": {
        "colab": {
          "base_uri": "https://localhost:8080/"
        },
        "id": "zaUEuEn4yxAs",
        "outputId": "d774a4c0-abd1-4e57-d0f7-1e87dce7096d"
      },
      "outputs": [
        {
          "name": "stdout",
          "output_type": "stream",
          "text": [
            "E E E E E \n",
            "D D D D D \n",
            "C C C C C \n",
            "B B B B B \n",
            "A A A A A \n"
          ]
        }
      ],
      "source": [
        "# Q.12\n",
        "for i in range(5,0,-1):\n",
        "  for j in range(5,0,-1):\n",
        "    print(chr(64+i),end=\" \")\n",
        "  print()"
      ]
    },
    {
      "cell_type": "code",
      "execution_count": null,
      "metadata": {
        "colab": {
          "base_uri": "https://localhost:8080/"
        },
        "id": "AFL6wQamz0a5",
        "outputId": "daa2b98e-4f61-4200-97d1-70ad99b4ec7d"
      },
      "outputs": [
        {
          "name": "stdout",
          "output_type": "stream",
          "text": [
            "1 \n",
            "1 2 \n",
            "1 2 3 \n",
            "1 2 3 4 \n",
            "1 2 3 4 5 \n"
          ]
        }
      ],
      "source": [
        "# Q.13\n",
        "for i in range(1,6,1):\n",
        "  for j in range(1,i+1,1):\n",
        "    print(j,end=\" \")\n",
        "  print()"
      ]
    },
    {
      "cell_type": "code",
      "execution_count": null,
      "metadata": {
        "colab": {
          "base_uri": "https://localhost:8080/"
        },
        "id": "DQugSFs60fWz",
        "outputId": "ccbb00d1-1a99-4f57-96c4-451e5ec15b60"
      },
      "outputs": [
        {
          "name": "stdout",
          "output_type": "stream",
          "text": [
            "5 \n",
            "5 4 \n",
            "5 4 3 \n",
            "5 4 3 2 \n",
            "5 4 3 2 1 \n"
          ]
        }
      ],
      "source": [
        "# Q.14\n",
        "for i in range(5,0,-1):\n",
        "  for j in range(5,i-1,-1):\n",
        "    print(j,end=\" \")\n",
        "  print()"
      ]
    },
    {
      "cell_type": "code",
      "execution_count": null,
      "metadata": {
        "colab": {
          "base_uri": "https://localhost:8080/"
        },
        "id": "YL7t7tJB1KSs",
        "outputId": "0312be0c-c5f1-4bbc-be0f-cdfbe569272b"
      },
      "outputs": [
        {
          "name": "stdout",
          "output_type": "stream",
          "text": [
            "1 \n",
            "2 2 \n",
            "3 3 3 \n",
            "4 4 4 4 \n",
            "5 5 5 5 5 \n"
          ]
        }
      ],
      "source": [
        "# Q.15\n",
        "for i in range(1,6,1):\n",
        "  for j in range(1,i+1,1):\n",
        "    print(i,end=\" \")\n",
        "  print()\n"
      ]
    },
    {
      "cell_type": "code",
      "execution_count": null,
      "metadata": {
        "colab": {
          "base_uri": "https://localhost:8080/"
        },
        "id": "stsBNz8c13zA",
        "outputId": "5843fd86-0828-4d7c-d7f9-420527b5d530"
      },
      "outputs": [
        {
          "name": "stdout",
          "output_type": "stream",
          "text": [
            "5 \n",
            "4 4 \n",
            "3 3 3 \n",
            "2 2 2 2 \n",
            "1 1 1 1 1 \n"
          ]
        }
      ],
      "source": [
        "# Q.16\n",
        "for i in range(5,0,-1):\n",
        "  for j in range(5,i-1,-1):\n",
        "    print(i,end=\" \")\n",
        "  print()"
      ]
    },
    {
      "cell_type": "code",
      "execution_count": null,
      "metadata": {
        "colab": {
          "base_uri": "https://localhost:8080/"
        },
        "id": "mGzLk8HQ2J_-",
        "outputId": "3af7f473-2b95-4c4c-9266-50a0b6d50061"
      },
      "outputs": [
        {
          "output_type": "stream",
          "name": "stdout",
          "text": [
            "A \n",
            "A B \n",
            "A B C \n",
            "A B C D \n",
            "A B C D E \n"
          ]
        }
      ],
      "source": [
        "# Q.17\n",
        "for i in range(1,6,1):\n",
        "  for j in range(1,i+1,1):\n",
        "    print(chr(64+j),end=\" \")\n",
        "  print()"
      ]
    },
    {
      "cell_type": "code",
      "execution_count": null,
      "metadata": {
        "colab": {
          "base_uri": "https://localhost:8080/"
        },
        "id": "mFd5Nu4h2m97",
        "outputId": "20bf06d8-6ea6-4df9-c29e-62404d7e18f4"
      },
      "outputs": [
        {
          "name": "stdout",
          "output_type": "stream",
          "text": [
            "E \n",
            "E D \n",
            "E D C \n",
            "E D C B \n",
            "E D C B A \n"
          ]
        }
      ],
      "source": [
        "# Q.18\n",
        "for i in range(5,0,-1):\n",
        "  for j in range(5,i-1,-1):\n",
        "    print(chr(64+j),end=\" \")\n",
        "  print()"
      ]
    },
    {
      "cell_type": "code",
      "execution_count": null,
      "metadata": {
        "colab": {
          "base_uri": "https://localhost:8080/"
        },
        "id": "b86qSJYw4sKV",
        "outputId": "df44b96e-2649-4d0d-fde8-7e3872f37928"
      },
      "outputs": [
        {
          "name": "stdout",
          "output_type": "stream",
          "text": [
            "1 2 3 4 5 \n",
            "1 2 3 4 \n",
            "1 2 3 \n",
            "1 2 \n",
            "1 \n"
          ]
        }
      ],
      "source": [
        "# Q.19\n",
        "for i in range(5,0,-1):\n",
        "  for j in range(1,i+1,1):\n",
        "    print(j,end=\" \")\n",
        "  print()"
      ]
    },
    {
      "cell_type": "code",
      "execution_count": null,
      "metadata": {
        "colab": {
          "base_uri": "https://localhost:8080/"
        },
        "id": "DQ_QzIMg7jWd",
        "outputId": "975cab42-36fe-47ed-a7da-00fa4245503d"
      },
      "outputs": [
        {
          "name": "stdout",
          "output_type": "stream",
          "text": [
            "5 4 3 2 1 \n",
            "4 3 2 1 \n",
            "3 2 1 \n",
            "2 1 \n",
            "1 \n"
          ]
        }
      ],
      "source": [
        "# Q.20\n",
        "for i in range(5,0,-1):\n",
        "  for j in range(i,0,-1):\n",
        "    print(j,end=\" \")\n",
        "  print()"
      ]
    },
    {
      "cell_type": "code",
      "execution_count": null,
      "metadata": {
        "colab": {
          "base_uri": "https://localhost:8080/"
        },
        "id": "-38PDECc8TA4",
        "outputId": "a4148fd1-827a-410b-dc33-66df136272ab"
      },
      "outputs": [
        {
          "name": "stdout",
          "output_type": "stream",
          "text": [
            "1 2 3 4 5 \n",
            "2 3 4 5 \n",
            "3 4 5 \n",
            "4 5 \n",
            "5 \n"
          ]
        }
      ],
      "source": [
        "# Q.21\n",
        "for i in range(1,6,1):\n",
        "  for j in range(i,6,1):\n",
        "    print(j,end=\" \")\n",
        "  print()"
      ]
    },
    {
      "cell_type": "code",
      "execution_count": null,
      "metadata": {
        "colab": {
          "base_uri": "https://localhost:8080/"
        },
        "id": "YrQfHz5LAkRL",
        "outputId": "02203b88-102e-46cc-bcaa-54a9552edf1a"
      },
      "outputs": [
        {
          "name": "stdout",
          "output_type": "stream",
          "text": [
            "A B C D E \n",
            "a b c d e \n",
            "A B C D E \n",
            "a b c d e \n",
            "A B C D E \n"
          ]
        }
      ],
      "source": [
        "  # Q.22\n",
        "  for i in range(1, 6):\n",
        "    for j in range(1, 6):\n",
        "        if i % 2 != 0:\n",
        "            print(chr(64 + j), end=\" \")\n",
        "        else:\n",
        "            print(chr(96 + j), end=\" \")\n",
        "    print()"
      ]
    },
    {
      "cell_type": "code",
      "execution_count": null,
      "metadata": {
        "colab": {
          "base_uri": "https://localhost:8080/"
        },
        "id": "xnXF4LLEBtxT",
        "outputId": "d83c2ea5-cc65-4b57-cab0-7e6cdb9cf6e0"
      },
      "outputs": [
        {
          "output_type": "stream",
          "name": "stdout",
          "text": [
            "A B C D E \n",
            "f g h i j \n",
            "K L M N O \n",
            "p q r s t \n",
            "U V W X Y \n"
          ]
        }
      ],
      "source": [
        "# Q.23\n",
        "ch = ord('A')\n",
        "for i in range(5):\n",
        "    for j in range(5):\n",
        "        if i % 2 == 0:\n",
        "            print(chr(ch), end=\" \")\n",
        "        else:\n",
        "            print(chr(ch).lower(), end=\" \")\n",
        "        ch += 1\n",
        "    print()"
      ]
    },
    {
      "cell_type": "code",
      "execution_count": null,
      "metadata": {
        "colab": {
          "base_uri": "https://localhost:8080/"
        },
        "id": "A9Tp0TDcDDLP",
        "outputId": "f4c2af1e-9a2e-48e8-ebaa-ca76ad89eb7c"
      },
      "outputs": [
        {
          "name": "stdout",
          "output_type": "stream",
          "text": [
            "1 0 1 0 1 \n",
            "0 1 0 1 0 \n",
            "1 0 1 0 1 \n",
            "0 1 0 1 0 \n",
            "1 0 1 0 1 \n"
          ]
        }
      ],
      "source": [
        "# Q.24\n",
        "for i in range(1,6,1):\n",
        "  for j in range(1,6,1):\n",
        "    print((i+j+1) % 2, end=\" \")\n",
        "  print()"
      ]
    },
    {
      "cell_type": "code",
      "execution_count": null,
      "metadata": {
        "colab": {
          "base_uri": "https://localhost:8080/"
        },
        "id": "JAjOGSj8FT4M",
        "outputId": "0ac29e19-9449-4990-d5bb-0b88eee597ac"
      },
      "outputs": [
        {
          "name": "stdout",
          "output_type": "stream",
          "text": [
            "    * \n",
            "   * * \n",
            "  * * * \n",
            " * * * * \n",
            "* * * * * \n"
          ]
        }
      ],
      "source": [
        "# Q.25\n",
        "for i in range(1, 6,1):\n",
        "    print(\" \" * (5 - i) + \" * \" * i)"
      ]
    },
    {
      "cell_type": "code",
      "execution_count": null,
      "metadata": {
        "colab": {
          "base_uri": "https://localhost:8080/"
        },
        "id": "h-fQPXBpF9SZ",
        "outputId": "9f63012f-19d0-4b9a-d4c2-8898a6d441de"
      },
      "outputs": [
        {
          "name": "stdout",
          "output_type": "stream",
          "text": [
            "    1 \n",
            "   1 2 \n",
            "  1 2 3 \n",
            " 1 2 3 4 \n",
            "1 2 3 4 5 \n"
          ]
        }
      ],
      "source": [
        "# Q.26\n",
        "for i in range(1, 6):\n",
        "    print(\" \" * (5 - i), end=\"\")\n",
        "    for j in range(1, i + 1):\n",
        "        print(j, end=\" \")\n",
        "    print()"
      ]
    },
    {
      "cell_type": "code",
      "execution_count": null,
      "metadata": {
        "colab": {
          "base_uri": "https://localhost:8080/"
        },
        "id": "D1-tC2HTHywQ",
        "outputId": "73ff0d95-db9d-42a9-8f4c-f21f114d117d"
      },
      "outputs": [
        {
          "output_type": "stream",
          "name": "stdout",
          "text": [
            "          1 \n",
            "        1 2 \n",
            "      1 2 3 \n",
            "    1 2 3 4 \n",
            "  1 2 3 4 5 \n"
          ]
        }
      ],
      "source": [
        "# Q.27\n",
        "a=6\n",
        "for i in range(1,a,1):\n",
        "  for j in range(i,a,1):\n",
        "    print(\" \",end=\" \")\n",
        "  for k in range(1,i+1,1):\n",
        "    print(k,end=\" \")\n",
        "  print()"
      ]
    },
    {
      "cell_type": "code",
      "source": [
        "# Q.28\n",
        "a=6\n",
        "for i in range(1, 6, 1):\n",
        "    for j in range(5, i-1, -1):\n",
        "        print(j, end=\" \")\n",
        "    print()"
      ],
      "metadata": {
        "colab": {
          "base_uri": "https://localhost:8080/"
        },
        "id": "AGAXh3uqDvK1",
        "outputId": "48e64048-a8cf-43a4-e306-cdc8c1f7cc54"
      },
      "execution_count": null,
      "outputs": [
        {
          "output_type": "stream",
          "name": "stdout",
          "text": [
            "5 4 3 2 1 \n",
            "5 4 3 2 \n",
            "5 4 3 \n",
            "5 4 \n",
            "5 \n"
          ]
        }
      ]
    },
    {
      "cell_type": "code",
      "source": [
        "# Q.29\n",
        "for i in range(5, 0, -1):\n",
        "    for j in range(65, 65 + i):\n",
        "        print(chr(j), end=\" \")\n",
        "    print()\n"
      ],
      "metadata": {
        "colab": {
          "base_uri": "https://localhost:8080/"
        },
        "id": "dAOqM9NfQ2Da",
        "outputId": "e422f670-e53e-4e1c-d59e-6e9cedb3a595"
      },
      "execution_count": null,
      "outputs": [
        {
          "output_type": "stream",
          "name": "stdout",
          "text": [
            "A B C D E \n",
            "A B C D \n",
            "A B C \n",
            "A B \n",
            "A \n"
          ]
        }
      ]
    },
    {
      "cell_type": "code",
      "source": [
        "# Q.30\n",
        "ch = 69\n",
        "for i in range(5, 0, -1):\n",
        "    print(chr(ch) * i)\n",
        "    ch -= 1"
      ],
      "metadata": {
        "colab": {
          "base_uri": "https://localhost:8080/"
        },
        "id": "eczI-43fZ5fe",
        "outputId": "be8a506c-b560-4871-8bb1-6cad087b1264"
      },
      "execution_count": null,
      "outputs": [
        {
          "output_type": "stream",
          "name": "stdout",
          "text": [
            "EEEEE\n",
            "DDDD\n",
            "CCC\n",
            "BB\n",
            "A\n"
          ]
        }
      ]
    },
    {
      "cell_type": "code",
      "source": [
        "# Q.31\n",
        "for i in range(1, 6):\n",
        "    for j in range(1, i+1):\n",
        "        print(j, end=\" \")\n",
        "    print()"
      ],
      "metadata": {
        "colab": {
          "base_uri": "https://localhost:8080/"
        },
        "id": "xWNjACVGfbA7",
        "outputId": "1950c380-a5b8-4ebc-f439-14688807ade4"
      },
      "execution_count": null,
      "outputs": [
        {
          "output_type": "stream",
          "name": "stdout",
          "text": [
            "1 \n",
            "1 2 \n",
            "1 2 3 \n",
            "1 2 3 4 \n",
            "1 2 3 4 5 \n"
          ]
        }
      ]
    },
    {
      "cell_type": "code",
      "source": [
        "# Q.32\n",
        "for i in range(1, 6):\n",
        "    print(\"  \" * (i-1), end=\"\")\n",
        "    for j in range(i, 6):\n",
        "        print(j, end=\" \")\n",
        "    print()"
      ],
      "metadata": {
        "colab": {
          "base_uri": "https://localhost:8080/"
        },
        "id": "-EodMg9bfeyL",
        "outputId": "2977071a-728a-4d56-b80c-188764254dc7"
      },
      "execution_count": null,
      "outputs": [
        {
          "output_type": "stream",
          "name": "stdout",
          "text": [
            "1 2 3 4 5 \n",
            "  2 3 4 5 \n",
            "    3 4 5 \n",
            "      4 5 \n",
            "        5 \n"
          ]
        }
      ]
    },
    {
      "cell_type": "code",
      "source": [
        "# Q.33\n",
        "for i in range(1, 6):\n",
        "    print(\"X \" * i)\n"
      ],
      "metadata": {
        "colab": {
          "base_uri": "https://localhost:8080/"
        },
        "id": "pga_maVBf1g-",
        "outputId": "418e7b7c-c835-4a53-c766-03120cec3894"
      },
      "execution_count": null,
      "outputs": [
        {
          "output_type": "stream",
          "name": "stdout",
          "text": [
            "X \n",
            "X X \n",
            "X X X \n",
            "X X X X \n",
            "X X X X X \n"
          ]
        }
      ]
    },
    {
      "cell_type": "code",
      "source": [
        "# Q.34\n",
        "for i in range(5, 0, -1):\n",
        "    for j in range(5, i-1, -1):\n",
        "        print(j, end=\" \")\n",
        "    print()"
      ],
      "metadata": {
        "colab": {
          "base_uri": "https://localhost:8080/"
        },
        "id": "NzIysYu6gJ03",
        "outputId": "e9fdebb4-69ff-4707-f6bf-ce3744fb2b15"
      },
      "execution_count": null,
      "outputs": [
        {
          "output_type": "stream",
          "name": "stdout",
          "text": [
            "5 \n",
            "5 4 \n",
            "5 4 3 \n",
            "5 4 3 2 \n",
            "5 4 3 2 1 \n"
          ]
        }
      ]
    },
    {
      "cell_type": "code",
      "source": [
        "# Q.35\n",
        "for i in range(5, 0, -1):\n",
        "    for j in range(5-i+1):\n",
        "        print(i, end=\" \")\n",
        "    print()"
      ],
      "metadata": {
        "colab": {
          "base_uri": "https://localhost:8080/"
        },
        "id": "Te-Lkv7cgOYi",
        "outputId": "8d1b4a30-e360-4d6c-8a0b-75654583199a"
      },
      "execution_count": null,
      "outputs": [
        {
          "output_type": "stream",
          "name": "stdout",
          "text": [
            "5 \n",
            "4 4 \n",
            "3 3 3 \n",
            "2 2 2 2 \n",
            "1 1 1 1 1 \n"
          ]
        }
      ]
    },
    {
      "cell_type": "code",
      "source": [
        "# Q.36\n",
        "for i in range(1, 6):\n",
        "    for j in range(i):\n",
        "        print(i, end=\" \")\n",
        "    print()"
      ],
      "metadata": {
        "colab": {
          "base_uri": "https://localhost:8080/"
        },
        "id": "7h-O4ax4gWt7",
        "outputId": "c73fa280-d13d-49d1-9fd9-42198a018c27"
      },
      "execution_count": null,
      "outputs": [
        {
          "output_type": "stream",
          "name": "stdout",
          "text": [
            "1 \n",
            "2 2 \n",
            "3 3 3 \n",
            "4 4 4 4 \n",
            "5 5 5 5 5 \n"
          ]
        }
      ]
    },
    {
      "cell_type": "code",
      "source": [
        "# Q.37\n",
        "for i in range(5, 0, -1):\n",
        "    print(\"X \" * i)"
      ],
      "metadata": {
        "colab": {
          "base_uri": "https://localhost:8080/"
        },
        "id": "N9Lxi_psgkvB",
        "outputId": "7fe44035-2ec4-4df6-82e5-299fcd986518"
      },
      "execution_count": null,
      "outputs": [
        {
          "output_type": "stream",
          "name": "stdout",
          "text": [
            "X X X X X \n",
            "X X X X \n",
            "X X X \n",
            "X X \n",
            "X \n"
          ]
        }
      ]
    },
    {
      "cell_type": "code",
      "source": [
        "# Q.38\n",
        "for i in range(65, 70):\n",
        "    for j in range(i, 70):\n",
        "        print(chr(j), end=\" \")\n",
        "    print()\n"
      ],
      "metadata": {
        "colab": {
          "base_uri": "https://localhost:8080/"
        },
        "id": "Sd8M_zGXgsSq",
        "outputId": "a8aacf6d-0dc0-46a3-81ef-3d16b08852d7"
      },
      "execution_count": null,
      "outputs": [
        {
          "output_type": "stream",
          "name": "stdout",
          "text": [
            "A B C D E \n",
            "B C D E \n",
            "C D E \n",
            "D E \n",
            "E \n"
          ]
        }
      ]
    },
    {
      "cell_type": "code",
      "source": [
        "# Q.49\n",
        "for i in range(5, 0, -1):\n",
        "    for j in range(1, i+1):\n",
        "        print(j, end=\" \")\n",
        "    print()"
      ],
      "metadata": {
        "colab": {
          "base_uri": "https://localhost:8080/"
        },
        "id": "asOK2NzJg53u",
        "outputId": "0499d7ad-aa52-4bae-9cd8-c77987479a4b"
      },
      "execution_count": null,
      "outputs": [
        {
          "output_type": "stream",
          "name": "stdout",
          "text": [
            "1 2 3 4 5 \n",
            "1 2 3 4 \n",
            "1 2 3 \n",
            "1 2 \n",
            "1 \n"
          ]
        }
      ]
    },
    {
      "cell_type": "code",
      "source": [
        "# Q.40\n",
        "n = 5  # number of lines\n",
        "for i in range(1, n+1, 1):\n",
        "    for j in range(i, 0, -1):\n",
        "        print(j, end=\" \")\n",
        "    print()"
      ],
      "metadata": {
        "id": "F9Kzv-F6hEWx",
        "colab": {
          "base_uri": "https://localhost:8080/"
        },
        "outputId": "57ec6de8-5a24-4124-88d4-459f0c3c9932"
      },
      "execution_count": null,
      "outputs": [
        {
          "output_type": "stream",
          "name": "stdout",
          "text": [
            "1 \n",
            "2 1 \n",
            "3 2 1 \n",
            "4 3 2 1 \n",
            "5 4 3 2 1 \n"
          ]
        }
      ]
    },
    {
      "cell_type": "code",
      "source": [
        "# Q.41\n",
        "a=6\n",
        "for i in range(1,a,1):\n",
        "  for j in range(i,a,1):\n",
        "    print(\" \",end=\" \")\n",
        "  for k in range(1,i+1,1):\n",
        "    print('x',end=\" \")\n",
        "  print()"
      ],
      "metadata": {
        "colab": {
          "base_uri": "https://localhost:8080/"
        },
        "id": "8vsxnkgRhDd_",
        "outputId": "7153d61b-2ba2-47ba-e994-c3ec0eaaa44c"
      },
      "execution_count": null,
      "outputs": [
        {
          "output_type": "stream",
          "name": "stdout",
          "text": [
            "          x \n",
            "        x x \n",
            "      x x x \n",
            "    x x x x \n",
            "  x x x x x \n"
          ]
        }
      ]
    },
    {
      "cell_type": "code",
      "source": [],
      "metadata": {
        "id": "5an3W35NhvSR"
      },
      "execution_count": null,
      "outputs": []
    }
  ],
  "metadata": {
    "colab": {
      "provenance": [],
      "toc_visible": true,
      "include_colab_link": true
    },
    "kernelspec": {
      "display_name": "Python 3",
      "name": "python3"
    }
  },
  "nbformat": 4,
  "nbformat_minor": 0
}